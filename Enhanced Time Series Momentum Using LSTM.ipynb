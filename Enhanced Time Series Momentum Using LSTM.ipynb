{
 "cells": [
  {
   "cell_type": "markdown",
   "metadata": {},
   "source": [
    "To do\n",
    "<br> decide better trading universe like including bond and commodity etf\n",
    "<br> make loss function calculate actual sharpe by reducing to daily returns first and then taking variance\n",
    "<br> compare performance with just using sign to predict and then equal weighting\n",
    "<br> trade taken on EOD close but signal based on close..might have to lag signals"
   ]
  },
  {
   "cell_type": "code",
   "execution_count": 1,
   "metadata": {},
   "outputs": [],
   "source": [
    "import yfinance as yf\n",
    "import numpy as np\n",
    "import pandas as pd\n",
    "import ta as ta"
   ]
  },
  {
   "cell_type": "markdown",
   "metadata": {},
   "source": [
    "# Download required prices"
   ]
  },
  {
   "cell_type": "code",
   "execution_count": 2,
   "metadata": {},
   "outputs": [
    {
     "name": "stdout",
     "output_type": "stream",
     "text": [
      "[*********************100%***********************]  11 of 11 completed\n"
     ]
    }
   ],
   "source": [
    "df_prices = yf.download(\"SPY XLY XLP XLE XLF XLV XLB XLI XLU XLK RWR\", start=\"2003-01-01\", end=\"2019-11-14\")['Adj Close']"
   ]
  },
  {
   "cell_type": "markdown",
   "metadata": {},
   "source": [
    "# Build technical indicators/returns"
   ]
  },
  {
   "cell_type": "code",
   "execution_count": 3,
   "metadata": {},
   "outputs": [],
   "source": [
    "df_trend = df_prices.apply(lambda col: ta.trend.macd(col)/col.rolling(63).std()).add_suffix('_trend')  #MACD/rolling 63 day stddev\n",
    "df_returns1 = df_prices.pct_change(1).add_suffix('_1day')\n",
    "df_returns5 = df_prices.pct_change(5).add_suffix('_5day')"
   ]
  },
  {
   "cell_type": "code",
   "execution_count": 4,
   "metadata": {},
   "outputs": [
    {
     "data": {
      "text/html": [
       "<div>\n",
       "<style scoped>\n",
       "    .dataframe tbody tr th:only-of-type {\n",
       "        vertical-align: middle;\n",
       "    }\n",
       "\n",
       "    .dataframe tbody tr th {\n",
       "        vertical-align: top;\n",
       "    }\n",
       "\n",
       "    .dataframe thead th {\n",
       "        text-align: right;\n",
       "    }\n",
       "</style>\n",
       "<table border=\"1\" class=\"dataframe\">\n",
       "  <thead>\n",
       "    <tr style=\"text-align: right;\">\n",
       "      <th></th>\n",
       "      <th>RWR</th>\n",
       "      <th>SPY</th>\n",
       "      <th>XLB</th>\n",
       "      <th>XLE</th>\n",
       "      <th>XLF</th>\n",
       "      <th>XLI</th>\n",
       "      <th>XLK</th>\n",
       "      <th>XLP</th>\n",
       "      <th>XLU</th>\n",
       "      <th>XLV</th>\n",
       "      <th>XLY</th>\n",
       "    </tr>\n",
       "    <tr>\n",
       "      <th>Date</th>\n",
       "      <th></th>\n",
       "      <th></th>\n",
       "      <th></th>\n",
       "      <th></th>\n",
       "      <th></th>\n",
       "      <th></th>\n",
       "      <th></th>\n",
       "      <th></th>\n",
       "      <th></th>\n",
       "      <th></th>\n",
       "      <th></th>\n",
       "    </tr>\n",
       "  </thead>\n",
       "  <tbody>\n",
       "    <tr>\n",
       "      <td>2003-01-17</td>\n",
       "      <td>-0.008053</td>\n",
       "      <td>-0.014780</td>\n",
       "      <td>-0.007863</td>\n",
       "      <td>-0.007592</td>\n",
       "      <td>-0.003021</td>\n",
       "      <td>-0.007209</td>\n",
       "      <td>-0.048750</td>\n",
       "      <td>-0.005819</td>\n",
       "      <td>-0.004545</td>\n",
       "      <td>-0.000738</td>\n",
       "      <td>-0.010004</td>\n",
       "    </tr>\n",
       "    <tr>\n",
       "      <td>2003-01-21</td>\n",
       "      <td>-0.008832</td>\n",
       "      <td>-0.015552</td>\n",
       "      <td>-0.021792</td>\n",
       "      <td>-0.023402</td>\n",
       "      <td>-0.016450</td>\n",
       "      <td>-0.024685</td>\n",
       "      <td>-0.006570</td>\n",
       "      <td>-0.007317</td>\n",
       "      <td>-0.020801</td>\n",
       "      <td>-0.007380</td>\n",
       "      <td>-0.028211</td>\n",
       "    </tr>\n",
       "    <tr>\n",
       "      <td>2003-01-22</td>\n",
       "      <td>0.001530</td>\n",
       "      <td>-0.012101</td>\n",
       "      <td>-0.012152</td>\n",
       "      <td>-0.002765</td>\n",
       "      <td>-0.015845</td>\n",
       "      <td>-0.018859</td>\n",
       "      <td>-0.006614</td>\n",
       "      <td>-0.011794</td>\n",
       "      <td>-0.008809</td>\n",
       "      <td>-0.002602</td>\n",
       "      <td>-0.014298</td>\n",
       "    </tr>\n",
       "    <tr>\n",
       "      <td>2003-01-23</td>\n",
       "      <td>0.006561</td>\n",
       "      <td>0.006124</td>\n",
       "      <td>0.014864</td>\n",
       "      <td>0.002773</td>\n",
       "      <td>0.015206</td>\n",
       "      <td>0.018209</td>\n",
       "      <td>0.017310</td>\n",
       "      <td>-0.006962</td>\n",
       "      <td>0.018296</td>\n",
       "      <td>0.002982</td>\n",
       "      <td>0.023297</td>\n",
       "    </tr>\n",
       "    <tr>\n",
       "      <td>2003-01-24</td>\n",
       "      <td>-0.010715</td>\n",
       "      <td>-0.026265</td>\n",
       "      <td>-0.022222</td>\n",
       "      <td>-0.017512</td>\n",
       "      <td>-0.038327</td>\n",
       "      <td>-0.030800</td>\n",
       "      <td>-0.039267</td>\n",
       "      <td>-0.022033</td>\n",
       "      <td>-0.025667</td>\n",
       "      <td>-0.021925</td>\n",
       "      <td>-0.027921</td>\n",
       "    </tr>\n",
       "  </tbody>\n",
       "</table>\n",
       "</div>"
      ],
      "text/plain": [
       "                 RWR       SPY       XLB       XLE       XLF       XLI  \\\n",
       "Date                                                                     \n",
       "2003-01-17 -0.008053 -0.014780 -0.007863 -0.007592 -0.003021 -0.007209   \n",
       "2003-01-21 -0.008832 -0.015552 -0.021792 -0.023402 -0.016450 -0.024685   \n",
       "2003-01-22  0.001530 -0.012101 -0.012152 -0.002765 -0.015845 -0.018859   \n",
       "2003-01-23  0.006561  0.006124  0.014864  0.002773  0.015206  0.018209   \n",
       "2003-01-24 -0.010715 -0.026265 -0.022222 -0.017512 -0.038327 -0.030800   \n",
       "\n",
       "                 XLK       XLP       XLU       XLV       XLY  \n",
       "Date                                                          \n",
       "2003-01-17 -0.048750 -0.005819 -0.004545 -0.000738 -0.010004  \n",
       "2003-01-21 -0.006570 -0.007317 -0.020801 -0.007380 -0.028211  \n",
       "2003-01-22 -0.006614 -0.011794 -0.008809 -0.002602 -0.014298  \n",
       "2003-01-23  0.017310 -0.006962  0.018296  0.002982  0.023297  \n",
       "2003-01-24 -0.039267 -0.022033 -0.025667 -0.021925 -0.027921  "
      ]
     },
     "execution_count": 4,
     "metadata": {},
     "output_type": "execute_result"
    }
   ],
   "source": [
    "z = df_prices.pct_change(1)\n",
    "z = z[11:3349]\n",
    "z.head()"
   ]
  },
  {
   "cell_type": "code",
   "execution_count": 5,
   "metadata": {},
   "outputs": [],
   "source": [
    "z_dash = z.reset_index()\n",
    "z_dash=z_dash.drop('Date',axis=1)"
   ]
  },
  {
   "cell_type": "code",
   "execution_count": 6,
   "metadata": {},
   "outputs": [
    {
     "data": {
      "text/html": [
       "<div>\n",
       "<style scoped>\n",
       "    .dataframe tbody tr th:only-of-type {\n",
       "        vertical-align: middle;\n",
       "    }\n",
       "\n",
       "    .dataframe tbody tr th {\n",
       "        vertical-align: top;\n",
       "    }\n",
       "\n",
       "    .dataframe thead th {\n",
       "        text-align: right;\n",
       "    }\n",
       "</style>\n",
       "<table border=\"1\" class=\"dataframe\">\n",
       "  <thead>\n",
       "    <tr style=\"text-align: right;\">\n",
       "      <th></th>\n",
       "      <th>RWR</th>\n",
       "      <th>SPY</th>\n",
       "      <th>XLB</th>\n",
       "      <th>XLE</th>\n",
       "      <th>XLF</th>\n",
       "      <th>XLI</th>\n",
       "      <th>XLK</th>\n",
       "      <th>XLP</th>\n",
       "      <th>XLU</th>\n",
       "      <th>XLV</th>\n",
       "      <th>XLY</th>\n",
       "    </tr>\n",
       "  </thead>\n",
       "  <tbody>\n",
       "    <tr>\n",
       "      <td>0</td>\n",
       "      <td>-0.008053</td>\n",
       "      <td>-0.014780</td>\n",
       "      <td>-0.007863</td>\n",
       "      <td>-0.007592</td>\n",
       "      <td>-0.003021</td>\n",
       "      <td>-0.007209</td>\n",
       "      <td>-0.048750</td>\n",
       "      <td>-0.005819</td>\n",
       "      <td>-0.004545</td>\n",
       "      <td>-0.000738</td>\n",
       "      <td>-0.010004</td>\n",
       "    </tr>\n",
       "    <tr>\n",
       "      <td>1</td>\n",
       "      <td>-0.008832</td>\n",
       "      <td>-0.015552</td>\n",
       "      <td>-0.021792</td>\n",
       "      <td>-0.023402</td>\n",
       "      <td>-0.016450</td>\n",
       "      <td>-0.024685</td>\n",
       "      <td>-0.006570</td>\n",
       "      <td>-0.007317</td>\n",
       "      <td>-0.020801</td>\n",
       "      <td>-0.007380</td>\n",
       "      <td>-0.028211</td>\n",
       "    </tr>\n",
       "    <tr>\n",
       "      <td>2</td>\n",
       "      <td>0.001530</td>\n",
       "      <td>-0.012101</td>\n",
       "      <td>-0.012152</td>\n",
       "      <td>-0.002765</td>\n",
       "      <td>-0.015845</td>\n",
       "      <td>-0.018859</td>\n",
       "      <td>-0.006614</td>\n",
       "      <td>-0.011794</td>\n",
       "      <td>-0.008809</td>\n",
       "      <td>-0.002602</td>\n",
       "      <td>-0.014298</td>\n",
       "    </tr>\n",
       "    <tr>\n",
       "      <td>3</td>\n",
       "      <td>0.006561</td>\n",
       "      <td>0.006124</td>\n",
       "      <td>0.014864</td>\n",
       "      <td>0.002773</td>\n",
       "      <td>0.015206</td>\n",
       "      <td>0.018209</td>\n",
       "      <td>0.017310</td>\n",
       "      <td>-0.006962</td>\n",
       "      <td>0.018296</td>\n",
       "      <td>0.002982</td>\n",
       "      <td>0.023297</td>\n",
       "    </tr>\n",
       "    <tr>\n",
       "      <td>4</td>\n",
       "      <td>-0.010715</td>\n",
       "      <td>-0.026265</td>\n",
       "      <td>-0.022222</td>\n",
       "      <td>-0.017512</td>\n",
       "      <td>-0.038327</td>\n",
       "      <td>-0.030800</td>\n",
       "      <td>-0.039267</td>\n",
       "      <td>-0.022033</td>\n",
       "      <td>-0.025667</td>\n",
       "      <td>-0.021925</td>\n",
       "      <td>-0.027921</td>\n",
       "    </tr>\n",
       "    <tr>\n",
       "      <td>...</td>\n",
       "      <td>...</td>\n",
       "      <td>...</td>\n",
       "      <td>...</td>\n",
       "      <td>...</td>\n",
       "      <td>...</td>\n",
       "      <td>...</td>\n",
       "      <td>...</td>\n",
       "      <td>...</td>\n",
       "      <td>...</td>\n",
       "      <td>...</td>\n",
       "      <td>...</td>\n",
       "    </tr>\n",
       "    <tr>\n",
       "      <td>3333</td>\n",
       "      <td>0.007680</td>\n",
       "      <td>-0.001106</td>\n",
       "      <td>0.004583</td>\n",
       "      <td>-0.013507</td>\n",
       "      <td>-0.003481</td>\n",
       "      <td>0.001429</td>\n",
       "      <td>-0.003819</td>\n",
       "      <td>0.006261</td>\n",
       "      <td>0.005553</td>\n",
       "      <td>-0.000713</td>\n",
       "      <td>0.002775</td>\n",
       "    </tr>\n",
       "    <tr>\n",
       "      <td>3334</td>\n",
       "      <td>0.004022</td>\n",
       "      <td>0.007027</td>\n",
       "      <td>0.004562</td>\n",
       "      <td>0.016525</td>\n",
       "      <td>0.007424</td>\n",
       "      <td>0.000892</td>\n",
       "      <td>0.004285</td>\n",
       "      <td>0.005656</td>\n",
       "      <td>0.003886</td>\n",
       "      <td>0.009283</td>\n",
       "      <td>0.009435</td>\n",
       "    </tr>\n",
       "    <tr>\n",
       "      <td>3335</td>\n",
       "      <td>0.000422</td>\n",
       "      <td>0.003154</td>\n",
       "      <td>0.021410</td>\n",
       "      <td>0.019972</td>\n",
       "      <td>0.012570</td>\n",
       "      <td>0.007130</td>\n",
       "      <td>-0.005614</td>\n",
       "      <td>-0.000562</td>\n",
       "      <td>0.001630</td>\n",
       "      <td>0.003537</td>\n",
       "      <td>-0.005484</td>\n",
       "    </tr>\n",
       "    <tr>\n",
       "      <td>3336</td>\n",
       "      <td>-0.017072</td>\n",
       "      <td>0.000953</td>\n",
       "      <td>-0.002964</td>\n",
       "      <td>0.008956</td>\n",
       "      <td>0.007705</td>\n",
       "      <td>-0.001593</td>\n",
       "      <td>0.002033</td>\n",
       "      <td>-0.011255</td>\n",
       "      <td>-0.025020</td>\n",
       "      <td>0.005358</td>\n",
       "      <td>0.001253</td>\n",
       "    </tr>\n",
       "    <tr>\n",
       "      <td>3337</td>\n",
       "      <td>-0.016726</td>\n",
       "      <td>-0.005379</td>\n",
       "      <td>-0.004459</td>\n",
       "      <td>-0.005867</td>\n",
       "      <td>-0.008921</td>\n",
       "      <td>-0.002482</td>\n",
       "      <td>-0.003606</td>\n",
       "      <td>-0.017833</td>\n",
       "      <td>-0.020863</td>\n",
       "      <td>0.005890</td>\n",
       "      <td>-0.003505</td>\n",
       "    </tr>\n",
       "  </tbody>\n",
       "</table>\n",
       "<p>3338 rows × 11 columns</p>\n",
       "</div>"
      ],
      "text/plain": [
       "           RWR       SPY       XLB       XLE       XLF       XLI       XLK  \\\n",
       "0    -0.008053 -0.014780 -0.007863 -0.007592 -0.003021 -0.007209 -0.048750   \n",
       "1    -0.008832 -0.015552 -0.021792 -0.023402 -0.016450 -0.024685 -0.006570   \n",
       "2     0.001530 -0.012101 -0.012152 -0.002765 -0.015845 -0.018859 -0.006614   \n",
       "3     0.006561  0.006124  0.014864  0.002773  0.015206  0.018209  0.017310   \n",
       "4    -0.010715 -0.026265 -0.022222 -0.017512 -0.038327 -0.030800 -0.039267   \n",
       "...        ...       ...       ...       ...       ...       ...       ...   \n",
       "3333  0.007680 -0.001106  0.004583 -0.013507 -0.003481  0.001429 -0.003819   \n",
       "3334  0.004022  0.007027  0.004562  0.016525  0.007424  0.000892  0.004285   \n",
       "3335  0.000422  0.003154  0.021410  0.019972  0.012570  0.007130 -0.005614   \n",
       "3336 -0.017072  0.000953 -0.002964  0.008956  0.007705 -0.001593  0.002033   \n",
       "3337 -0.016726 -0.005379 -0.004459 -0.005867 -0.008921 -0.002482 -0.003606   \n",
       "\n",
       "           XLP       XLU       XLV       XLY  \n",
       "0    -0.005819 -0.004545 -0.000738 -0.010004  \n",
       "1    -0.007317 -0.020801 -0.007380 -0.028211  \n",
       "2    -0.011794 -0.008809 -0.002602 -0.014298  \n",
       "3    -0.006962  0.018296  0.002982  0.023297  \n",
       "4    -0.022033 -0.025667 -0.021925 -0.027921  \n",
       "...        ...       ...       ...       ...  \n",
       "3333  0.006261  0.005553 -0.000713  0.002775  \n",
       "3334  0.005656  0.003886  0.009283  0.009435  \n",
       "3335 -0.000562  0.001630  0.003537 -0.005484  \n",
       "3336 -0.011255 -0.025020  0.005358  0.001253  \n",
       "3337 -0.017833 -0.020863  0.005890 -0.003505  \n",
       "\n",
       "[3338 rows x 11 columns]"
      ]
     },
     "execution_count": 6,
     "metadata": {},
     "output_type": "execute_result"
    }
   ],
   "source": [
    "z_dash"
   ]
  },
  {
   "cell_type": "code",
   "execution_count": null,
   "metadata": {},
   "outputs": [],
   "source": []
  },
  {
   "cell_type": "code",
   "execution_count": 7,
   "metadata": {},
   "outputs": [],
   "source": [
    "index_slice = df_trend.notnull().all(axis=1) & df_returns1.notnull().all(axis=1) & df_returns5.notnull().all(axis=1) #double check if this is correct\n",
    "\n",
    "df_trend = df_trend[index_slice]\n",
    "df_returns1 = df_returns1[index_slice]\n",
    "df_returns5 = df_returns5[index_slice]"
   ]
  },
  {
   "cell_type": "code",
   "execution_count": 18,
   "metadata": {},
   "outputs": [],
   "source": [
    "z = df_returns1.copy()\n",
    "z = z[11:3349]\n",
    "z.head()\n",
    "z_dash = z.reset_index()\n",
    "z_dash=z_dash.drop('Date',axis=1)"
   ]
  },
  {
   "cell_type": "code",
   "execution_count": 11,
   "metadata": {},
   "outputs": [
    {
     "data": {
      "text/html": [
       "<div>\n",
       "<style scoped>\n",
       "    .dataframe tbody tr th:only-of-type {\n",
       "        vertical-align: middle;\n",
       "    }\n",
       "\n",
       "    .dataframe tbody tr th {\n",
       "        vertical-align: top;\n",
       "    }\n",
       "\n",
       "    .dataframe thead th {\n",
       "        text-align: right;\n",
       "    }\n",
       "</style>\n",
       "<table border=\"1\" class=\"dataframe\">\n",
       "  <thead>\n",
       "    <tr style=\"text-align: right;\">\n",
       "      <th></th>\n",
       "      <th>RWR_1day</th>\n",
       "      <th>SPY_1day</th>\n",
       "      <th>XLB_1day</th>\n",
       "      <th>XLE_1day</th>\n",
       "      <th>XLF_1day</th>\n",
       "      <th>XLI_1day</th>\n",
       "      <th>XLK_1day</th>\n",
       "      <th>XLP_1day</th>\n",
       "      <th>XLU_1day</th>\n",
       "      <th>XLV_1day</th>\n",
       "      <th>XLY_1day</th>\n",
       "    </tr>\n",
       "    <tr>\n",
       "      <th>Date</th>\n",
       "      <th></th>\n",
       "      <th></th>\n",
       "      <th></th>\n",
       "      <th></th>\n",
       "      <th></th>\n",
       "      <th></th>\n",
       "      <th></th>\n",
       "      <th></th>\n",
       "      <th></th>\n",
       "      <th></th>\n",
       "      <th></th>\n",
       "    </tr>\n",
       "  </thead>\n",
       "  <tbody>\n",
       "    <tr>\n",
       "      <td>2003-04-02</td>\n",
       "      <td>0.011455</td>\n",
       "      <td>0.024175</td>\n",
       "      <td>0.020452</td>\n",
       "      <td>-0.002198</td>\n",
       "      <td>0.026278</td>\n",
       "      <td>0.022472</td>\n",
       "      <td>0.042847</td>\n",
       "      <td>0.021070</td>\n",
       "      <td>0.000540</td>\n",
       "      <td>0.014766</td>\n",
       "      <td>0.026087</td>\n",
       "    </tr>\n",
       "    <tr>\n",
       "      <td>2003-04-03</td>\n",
       "      <td>-0.002769</td>\n",
       "      <td>-0.004766</td>\n",
       "      <td>-0.010021</td>\n",
       "      <td>-0.018511</td>\n",
       "      <td>-0.004572</td>\n",
       "      <td>-0.000999</td>\n",
       "      <td>-0.002651</td>\n",
       "      <td>-0.006878</td>\n",
       "      <td>-0.003776</td>\n",
       "      <td>-0.002547</td>\n",
       "      <td>0.005085</td>\n",
       "    </tr>\n",
       "    <tr>\n",
       "      <td>2003-04-04</td>\n",
       "      <td>-0.006393</td>\n",
       "      <td>0.005929</td>\n",
       "      <td>0.005860</td>\n",
       "      <td>0.005388</td>\n",
       "      <td>0.010106</td>\n",
       "      <td>0.002500</td>\n",
       "      <td>-0.011296</td>\n",
       "      <td>0.004262</td>\n",
       "      <td>0.012452</td>\n",
       "      <td>0.004012</td>\n",
       "      <td>0.007167</td>\n",
       "    </tr>\n",
       "    <tr>\n",
       "      <td>2003-04-07</td>\n",
       "      <td>0.008297</td>\n",
       "      <td>-0.001927</td>\n",
       "      <td>0.007945</td>\n",
       "      <td>-0.007593</td>\n",
       "      <td>0.003638</td>\n",
       "      <td>0.007481</td>\n",
       "      <td>0.002688</td>\n",
       "      <td>-0.005305</td>\n",
       "      <td>0.000000</td>\n",
       "      <td>-0.008718</td>\n",
       "      <td>0.008790</td>\n",
       "    </tr>\n",
       "    <tr>\n",
       "      <td>2003-04-08</td>\n",
       "      <td>-0.005794</td>\n",
       "      <td>0.001590</td>\n",
       "      <td>-0.006306</td>\n",
       "      <td>-0.012150</td>\n",
       "      <td>0.000000</td>\n",
       "      <td>-0.003960</td>\n",
       "      <td>-0.010053</td>\n",
       "      <td>0.011733</td>\n",
       "      <td>-0.006417</td>\n",
       "      <td>0.001099</td>\n",
       "      <td>0.000830</td>\n",
       "    </tr>\n",
       "  </tbody>\n",
       "</table>\n",
       "</div>"
      ],
      "text/plain": [
       "            RWR_1day  SPY_1day  XLB_1day  XLE_1day  XLF_1day  XLI_1day  \\\n",
       "Date                                                                     \n",
       "2003-04-02  0.011455  0.024175  0.020452 -0.002198  0.026278  0.022472   \n",
       "2003-04-03 -0.002769 -0.004766 -0.010021 -0.018511 -0.004572 -0.000999   \n",
       "2003-04-04 -0.006393  0.005929  0.005860  0.005388  0.010106  0.002500   \n",
       "2003-04-07  0.008297 -0.001927  0.007945 -0.007593  0.003638  0.007481   \n",
       "2003-04-08 -0.005794  0.001590 -0.006306 -0.012150  0.000000 -0.003960   \n",
       "\n",
       "            XLK_1day  XLP_1day  XLU_1day  XLV_1day  XLY_1day  \n",
       "Date                                                          \n",
       "2003-04-02  0.042847  0.021070  0.000540  0.014766  0.026087  \n",
       "2003-04-03 -0.002651 -0.006878 -0.003776 -0.002547  0.005085  \n",
       "2003-04-04 -0.011296  0.004262  0.012452  0.004012  0.007167  \n",
       "2003-04-07  0.002688 -0.005305  0.000000 -0.008718  0.008790  \n",
       "2003-04-08 -0.010053  0.011733 -0.006417  0.001099  0.000830  "
      ]
     },
     "execution_count": 11,
     "metadata": {},
     "output_type": "execute_result"
    }
   ],
   "source": [
    "df_returns1.head()"
   ]
  },
  {
   "cell_type": "markdown",
   "metadata": {},
   "source": [
    "# Split into train and test data & build generator"
   ]
  },
  {
   "cell_type": "code",
   "execution_count": 12,
   "metadata": {},
   "outputs": [],
   "source": [
    "X = pd.concat([df_trend,df_returns1,df_returns5], axis=1, sort=True)\n",
    "\n",
    "train_size = int(0.8*len(X))\n",
    "X_train, y_train = X.iloc[:train_size,:].values, df_returns1.iloc[:train_size,:].values\n",
    "X_test, y_test = X.iloc[train_size:,:].values, df_returns1.iloc[train_size:,:].values\n"
   ]
  },
  {
   "cell_type": "code",
   "execution_count": 13,
   "metadata": {},
   "outputs": [],
   "source": [
    "X = pd.concat([df_returns1,df_returns5,df_trend], axis=1, sort=True)\n",
    "\n",
    "train_size = int(0.8*len(X))\n",
    "X_train, y_train = X.iloc[:train_size,:].values, df_returns1.iloc[:train_size,:].values\n",
    "X_test, y_test = X.iloc[train_size:,:].values, df_returns1.iloc[train_size:,:].values\n"
   ]
  },
  {
   "cell_type": "code",
   "execution_count": 19,
   "metadata": {},
   "outputs": [],
   "source": [
    "df_reqret1 = X_train[:,:11]"
   ]
  },
  {
   "cell_type": "code",
   "execution_count": 23,
   "metadata": {},
   "outputs": [
    {
     "data": {
      "text/plain": [
       "numpy.ndarray"
      ]
     },
     "execution_count": 23,
     "metadata": {},
     "output_type": "execute_result"
    }
   ],
   "source": [
    "df_reqret1.shape\n",
    "type(df_reqret1)"
   ]
  },
  {
   "cell_type": "code",
   "execution_count": 26,
   "metadata": {},
   "outputs": [
    {
     "name": "stderr",
     "output_type": "stream",
     "text": [
      "Using TensorFlow backend.\n"
     ]
    }
   ],
   "source": [
    "from keras.preprocessing.sequence import TimeseriesGenerator\n",
    "\n",
    "look_back = 10 #Number of timesteps passed to LSTM\n",
    "batch_size = 22 #Number of days to optimize sharpe over\n",
    "\n",
    "train_data_gen = TimeseriesGenerator(X_train, y_train,length=look_back,\n",
    "                                     sampling_rate=1,stride=1,batch_size=batch_size)\n",
    "test_data_gen = TimeseriesGenerator(X_test, y_test,length=look_back,\n",
    "                                     sampling_rate=1,stride=1,batch_size=batch_size) #Might have to chagnge batch size to 1 for prediction\n"
   ]
  },
  {
   "cell_type": "code",
   "execution_count": 27,
   "metadata": {},
   "outputs": [
    {
     "name": "stdout",
     "output_type": "stream",
     "text": [
      "(3348, 33)\n",
      "(838, 33)\n",
      "[[ 0.01145518  0.02417501  0.02045238 ... -0.19641607 -0.46935059\n",
      "  -0.35361958]\n",
      " [-0.00276876 -0.00476623 -0.01002105 ... -0.19414635 -0.49313339\n",
      "  -0.37908066]\n",
      " [-0.00639295  0.0059294   0.00586026 ... -0.21300807 -0.5187721\n",
      "  -0.4037714 ]\n",
      " ...\n",
      " [ 0.         -0.00134186  0.00349731 ... -0.38501443 -0.63385392\n",
      "  -0.64941467]\n",
      " [ 0.00177838  0.00268732  0.00655998 ... -0.36051713 -0.62353562\n",
      "  -0.66634383]\n",
      " [ 0.00562122 -0.00101668 -0.00590631 ... -0.33322746 -0.59933044\n",
      "  -0.65892918]]\n"
     ]
    }
   ],
   "source": [
    "print(X_train.shape)\n",
    "print(X_test.shape)\n",
    "print(X_train)"
   ]
  },
  {
   "cell_type": "markdown",
   "metadata": {},
   "source": [
    "# Define custom Loss"
   ]
  },
  {
   "cell_type": "code",
   "execution_count": 28,
   "metadata": {},
   "outputs": [],
   "source": [
    "import tensorflow as tf\n",
    "import keras.backend as K\n",
    "\n",
    "def compute_sharpe(captured_returns):\n",
    "\n",
    "    ave_ret = tf.reduce_mean(captured_returns)\n",
    "    ave_sq_rets = tf.reduce_mean(tf.square(captured_returns))\n",
    "    variance = ave_sq_rets - tf.square(ave_ret)\n",
    "    std = tf.sqrt(variance + 1e-9)\n",
    "\n",
    "    sharpe = ave_ret / std * tf.sqrt(252.0)\n",
    "    return sharpe\n",
    "\n",
    "\n",
    "def sharpe_ratio_loss(y_true, y_pred):\n",
    "    \n",
    "    weights = y_pred\n",
    "    captured_returns = weights * y_true\n",
    "\n",
    "    sharpe = compute_sharpe(captured_returns)\n",
    "\n",
    "    return -sharpe\n",
    "\n",
    "def compute_sharpe2(captured_returns):\n",
    "    \"\"\"Function that calculates daily returns first and then calcualtes sharpe\"\"\"\n",
    "\n",
    "    ave_ret = tf.reduce_mean(captured_returns)\n",
    "    daily_ret = tf.reduce_mean(captured_returns, axis=1)\n",
    "    #ave_sq_rets = tf.reduce_mean(tf.square(captured_returns))\n",
    "    #variance = ave_sq_rets - tf.square(ave_ret)\n",
    "    #std = tf.sqrt(variance + 1e-9)\n",
    "\n",
    "    sharpe = ave_ret / tf.math.reduce_std(daily_ret) * tf.sqrt(252.0)\n",
    "    return sharpe\n",
    "\n",
    "def sharpe_ratio_loss2(y_true, y_pred):\n",
    "    \n",
    "    weights = y_pred\n",
    "    captured_returns = weights * y_true\n",
    "\n",
    "    sharpe = compute_sharpe2(captured_returns)\n",
    "\n",
    "    return -sharpe"
   ]
  },
  {
   "cell_type": "markdown",
   "metadata": {},
   "source": [
    "# Build LSTM model"
   ]
  },
  {
   "cell_type": "code",
   "execution_count": 29,
   "metadata": {},
   "outputs": [],
   "source": [
    "from keras.models import Sequential\n",
    "from keras.layers import Dense, LSTM, Dropout\n",
    "from keras import regularizers\n",
    "\n",
    "lstm_model = Sequential()\n",
    "lstm_model.add(LSTM(50, input_shape=(10,33), return_sequences=True))\n",
    "lstm_model.add(Dropout(0.5))\n",
    "lstm_model.add(LSTM(50))\n",
    "lstm_model.add(Dropout(0.5))\n",
    "lstm_model.add(Dense(25, activation='tanh',kernel_regularizer=regularizers.l2(0.02)))\n",
    "lstm_model.add(Dropout(0.5))\n",
    "lstm_model.add(Dense(11, activation='tanh'))\n",
    "lstm_model.compile(loss=sharpe_ratio_loss2, optimizer='rmsprop')"
   ]
  },
  {
   "cell_type": "code",
   "execution_count": 30,
   "metadata": {},
   "outputs": [
    {
     "name": "stdout",
     "output_type": "stream",
     "text": [
      "Model: \"sequential_1\"\n",
      "_________________________________________________________________\n",
      "Layer (type)                 Output Shape              Param #   \n",
      "=================================================================\n",
      "lstm_1 (LSTM)                (None, 10, 50)            16800     \n",
      "_________________________________________________________________\n",
      "dropout_1 (Dropout)          (None, 10, 50)            0         \n",
      "_________________________________________________________________\n",
      "lstm_2 (LSTM)                (None, 50)                20200     \n",
      "_________________________________________________________________\n",
      "dropout_2 (Dropout)          (None, 50)                0         \n",
      "_________________________________________________________________\n",
      "dense_1 (Dense)              (None, 25)                1275      \n",
      "_________________________________________________________________\n",
      "dropout_3 (Dropout)          (None, 25)                0         \n",
      "_________________________________________________________________\n",
      "dense_2 (Dense)              (None, 11)                286       \n",
      "=================================================================\n",
      "Total params: 38,561\n",
      "Trainable params: 38,561\n",
      "Non-trainable params: 0\n",
      "_________________________________________________________________\n"
     ]
    }
   ],
   "source": [
    "lstm_model.summary()"
   ]
  },
  {
   "cell_type": "code",
   "execution_count": 31,
   "metadata": {},
   "outputs": [
    {
     "name": "stdout",
     "output_type": "stream",
     "text": [
      "Epoch 1/10\n",
      "152/152 [==============================] - 2s 14ms/step - loss: -0.2246 - val_loss: -5.8759\n",
      "Epoch 2/10\n",
      "152/152 [==============================] - 1s 8ms/step - loss: -0.8798 - val_loss: -5.8499\n",
      "Epoch 3/10\n",
      "152/152 [==============================] - 1s 8ms/step - loss: -1.3299 - val_loss: -5.6900\n",
      "Epoch 4/10\n",
      "152/152 [==============================] - 1s 8ms/step - loss: -1.1293 - val_loss: -6.0126\n",
      "Epoch 5/10\n",
      "152/152 [==============================] - 1s 8ms/step - loss: -1.6001 - val_loss: -3.8464\n",
      "Epoch 6/10\n",
      "152/152 [==============================] - 1s 8ms/step - loss: -1.7563 - val_loss: -2.3438\n",
      "Epoch 7/10\n",
      "152/152 [==============================] - 1s 8ms/step - loss: -1.7807 - val_loss: -1.2035\n",
      "Epoch 8/10\n",
      "152/152 [==============================] - 1s 8ms/step - loss: -1.6151 - val_loss: -3.1017\n",
      "Epoch 9/10\n",
      "152/152 [==============================] - 1s 8ms/step - loss: -1.9135 - val_loss: -1.9030\n",
      "Epoch 10/10\n",
      "152/152 [==============================] - 1s 8ms/step - loss: -2.2631 - val_loss: -1.7378\n"
     ]
    }
   ],
   "source": [
    "history = lstm_model.fit_generator(train_data_gen, epochs=10, verbose=1, validation_data = test_data_gen, shuffle=False)"
   ]
  },
  {
   "cell_type": "code",
   "execution_count": 32,
   "metadata": {
    "scrolled": true
   },
   "outputs": [
    {
     "data": {
      "text/plain": [
       "array([[ 0.08458163,  0.02415766,  0.08924226,  0.14321335, -0.18622221,\n",
       "        -0.03190915,  0.1573278 ,  0.3722089 ,  0.25944868,  0.23759104,\n",
       "         0.22848447]], dtype=float32)"
      ]
     },
     "execution_count": 32,
     "metadata": {},
     "output_type": "execute_result"
    }
   ],
   "source": [
    "#dump\n",
    "lstm_model.predict(np.expand_dims(X_train[:10], axis=0))"
   ]
  },
  {
   "cell_type": "markdown",
   "metadata": {},
   "source": [
    "# Portfolio value graph"
   ]
  },
  {
   "cell_type": "markdown",
   "metadata": {},
   "source": [
    "1) Remove last day's weights: 3337 * 11 (temp array)\n",
    "2) Remove first 11 day's return: 3337 * 11 (X_train array)\n",
    "To remove last n rows (   a[:-n, :]  )\n",
    "To remove first n rows (  a[n:, :]   )"
   ]
  },
  {
   "cell_type": "code",
   "execution_count": 95,
   "metadata": {},
   "outputs": [],
   "source": [
    "answers = df_reqret1[10:, :]"
   ]
  },
  {
   "cell_type": "code",
   "execution_count": 96,
   "metadata": {},
   "outputs": [
    {
     "data": {
      "text/plain": [
       "(3338, 11)"
      ]
     },
     "execution_count": 96,
     "metadata": {},
     "output_type": "execute_result"
    }
   ],
   "source": [
    "answers.shape"
   ]
  },
  {
   "cell_type": "code",
   "execution_count": 97,
   "metadata": {},
   "outputs": [],
   "source": [
    "df_predictedweights = lstm_model.predict_generator(train_data_gen)"
   ]
  },
  {
   "cell_type": "code",
   "execution_count": 98,
   "metadata": {},
   "outputs": [],
   "source": [
    "df_predictedweights1 = lstm_model.predict_generator(test_data_gen)"
   ]
  },
  {
   "cell_type": "code",
   "execution_count": 84,
   "metadata": {},
   "outputs": [
    {
     "data": {
      "text/plain": [
       "(828, 11)"
      ]
     },
     "execution_count": 84,
     "metadata": {},
     "output_type": "execute_result"
    }
   ],
   "source": [
    "df_predictedweights1.shape"
   ]
  },
  {
   "cell_type": "code",
   "execution_count": 87,
   "metadata": {},
   "outputs": [],
   "source": [
    "ans = y_test[10:,:]*normalize(df_predictedweights1, axis=1, norm='l1')"
   ]
  },
  {
   "cell_type": "code",
   "execution_count": 105,
   "metadata": {},
   "outputs": [],
   "source": [
    "#without normalizing\n",
    "ans = y_train[10:,:]*df_predictedweights"
   ]
  },
  {
   "cell_type": "code",
   "execution_count": 76,
   "metadata": {},
   "outputs": [],
   "source": [
    "#df_predictedweights = df_predictedweights[:-1, :]"
   ]
  },
  {
   "cell_type": "code",
   "execution_count": 77,
   "metadata": {},
   "outputs": [],
   "source": [
    "#Normalizing the weights\n",
    "from sklearn.preprocessing import normalize\n",
    "\n",
    "df_predictedweights = normalize(df_predictedweights, axis=1, norm='l1')"
   ]
  },
  {
   "cell_type": "code",
   "execution_count": 78,
   "metadata": {},
   "outputs": [],
   "source": [
    "nd_dailyreturns = df_predictedweights * answers"
   ]
  },
  {
   "cell_type": "code",
   "execution_count": 79,
   "metadata": {},
   "outputs": [
    {
     "data": {
      "text/plain": [
       "array([[ 2.72137622e-05, -2.26901762e-04, -6.62276965e-04, ...,\n",
       "        -1.49638010e-04, -3.09821494e-03, -1.73972405e-03],\n",
       "       [ 6.90088454e-04,  2.40611039e-04,  7.74813464e-04, ...,\n",
       "         3.09444610e-04,  1.28486236e-03,  2.26173476e-03],\n",
       "       [ 3.42527297e-05,  1.08152088e-05, -1.00669653e-04, ...,\n",
       "         1.37848179e-03,  3.60439248e-04,  4.37332442e-05],\n",
       "       ...,\n",
       "       [-0.00000000e+00,  2.87194784e-05,  2.41866279e-04, ...,\n",
       "         3.55803302e-04, -1.26481340e-04, -3.45810293e-04],\n",
       "       [-6.41816175e-05, -8.85144699e-05,  4.16182182e-04, ...,\n",
       "         2.87441283e-04,  6.87896387e-05,  2.59038370e-04],\n",
       "       [-3.86051981e-04,  4.30454403e-05, -3.27927554e-04, ...,\n",
       "        -1.28598370e-04, -3.94070973e-04, -1.04928757e-04]])"
      ]
     },
     "execution_count": 79,
     "metadata": {},
     "output_type": "execute_result"
    }
   ],
   "source": [
    "nd_dailyreturns"
   ]
  },
  {
   "cell_type": "code",
   "execution_count": 115,
   "metadata": {},
   "outputs": [],
   "source": [
    "nd_dailyreturns = np.sum(ans, axis=1)"
   ]
  },
  {
   "cell_type": "code",
   "execution_count": 116,
   "metadata": {},
   "outputs": [],
   "source": [
    "nd_dailyreturns = np.cumsum(nd_dailyreturns)"
   ]
  },
  {
   "cell_type": "code",
   "execution_count": 117,
   "metadata": {},
   "outputs": [
    {
     "data": {
      "text/plain": [
       "[<matplotlib.lines.Line2D at 0x1a40aafe10>]"
      ]
     },
     "execution_count": 117,
     "metadata": {},
     "output_type": "execute_result"
    },
    {
     "data": {
      "image/png": "[encoded data removed]",
      "text/plain": [
       "<Figure size 432x288 with 1 Axes>"
      ]
     },
     "metadata": {
      "needs_background": "light"
     },
     "output_type": "display_data"
    }
   ],
   "source": [
    "plt.plot(nd_dailyreturns)"
   ]
  },
  {
   "cell_type": "code",
   "execution_count": 94,
   "metadata": {},
   "outputs": [
    {
     "data": {
      "text/plain": [
       "[<matplotlib.lines.Line2D at 0x1a402e7210>]"
      ]
     },
     "execution_count": 94,
     "metadata": {},
     "output_type": "execute_result"
    },
    {
     "data": {
      "image/png": "[encoded data removed]",
      "text/plain": [
       "<Figure size 432x288 with 1 Axes>"
      ]
     },
     "metadata": {
      "needs_background": "light"
     },
     "output_type": "display_data"
    }
   ],
   "source": [
    "nd_dailyreturns = np.mean(y_test, axis=1)\n",
    "nd_dailyreturns = np.cumprod(1+nd_dailyreturns)\n",
    "plt.plot(nd_dailyreturns)"
   ]
  },
  {
   "cell_type": "code",
   "execution_count": 16,
   "metadata": {},
   "outputs": [
    {
     "data": {
      "text/plain": [
       "(3338, 11)"
      ]
     },
     "execution_count": 16,
     "metadata": {},
     "output_type": "execute_result"
    }
   ],
   "source": [
    "temp.shape"
   ]
  },
  {
   "cell_type": "code",
   "execution_count": 17,
   "metadata": {},
   "outputs": [
    {
     "name": "stdout",
     "output_type": "stream",
     "text": [
      "[[ 0.39295208  0.03818881  0.08013953 ...  0.23250602  0.2040635\n",
      "   0.2196502 ]\n",
      " [ 0.38809556  0.03623683  0.07968836 ...  0.22815469  0.21170667\n",
      "   0.21789825]\n",
      " [ 0.36832154  0.00654863  0.07914226 ...  0.17778127  0.21149035\n",
      "   0.19105348]\n",
      " ...\n",
      " [ 0.20609039 -0.0432375  -0.01839073 ...  0.01072161  0.22762057\n",
      "   0.0743719 ]\n",
      " [ 0.21695746 -0.02695525 -0.01675374 ...  0.03305097  0.22877358\n",
      "   0.09194614]\n",
      " [ 0.21169883 -0.00708692 -0.02188107 ...  0.05878905  0.23082173\n",
      "   0.09494719]]\n"
     ]
    }
   ],
   "source": [
    "print(temp)"
   ]
  },
  {
   "cell_type": "code",
   "execution_count": 50,
   "metadata": {},
   "outputs": [
    {
     "name": "stdout",
     "output_type": "stream",
     "text": [
      "<class 'numpy.ndarray'>\n"
     ]
    },
    {
     "data": {
      "text/plain": [
       "(3338, 11)"
      ]
     },
     "execution_count": 50,
     "metadata": {},
     "output_type": "execute_result"
    }
   ],
   "source": [
    "print(type(temp))\n",
    "temp.shape"
   ]
  },
  {
   "cell_type": "code",
   "execution_count": 111,
   "metadata": {},
   "outputs": [],
   "source": [
    "df_weights = pd.DataFrame({'RWR': temp[:, 0], 'SPY': temp[:, 1], 'XLY': temp[:, 2],'XLP': temp[:, 3], 'XLE': temp[:, 4], 'XLF': temp[:, 5],\n",
    "                          'XLV': temp[:, 6], 'XLB': temp[:, 7], 'XLI': temp[:, 8], 'XLU': temp[:, 9], 'XLK': temp[:, 10]})"
   ]
  },
  {
   "cell_type": "code",
   "execution_count": 112,
   "metadata": {},
   "outputs": [
    {
     "data": {
      "text/html": [
       "<div>\n",
       "<style scoped>\n",
       "    .dataframe tbody tr th:only-of-type {\n",
       "        vertical-align: middle;\n",
       "    }\n",
       "\n",
       "    .dataframe tbody tr th {\n",
       "        vertical-align: top;\n",
       "    }\n",
       "\n",
       "    .dataframe thead th {\n",
       "        text-align: right;\n",
       "    }\n",
       "</style>\n",
       "<table border=\"1\" class=\"dataframe\">\n",
       "  <thead>\n",
       "    <tr style=\"text-align: right;\">\n",
       "      <th></th>\n",
       "      <th>RWR</th>\n",
       "      <th>SPY</th>\n",
       "      <th>XLY</th>\n",
       "      <th>XLP</th>\n",
       "      <th>XLE</th>\n",
       "      <th>XLF</th>\n",
       "      <th>XLV</th>\n",
       "      <th>XLB</th>\n",
       "      <th>XLI</th>\n",
       "      <th>XLU</th>\n",
       "      <th>XLK</th>\n",
       "    </tr>\n",
       "  </thead>\n",
       "  <tbody>\n",
       "    <tr>\n",
       "      <td>0</td>\n",
       "      <td>0.392952</td>\n",
       "      <td>0.038189</td>\n",
       "      <td>0.080140</td>\n",
       "      <td>0.209323</td>\n",
       "      <td>-0.199084</td>\n",
       "      <td>0.060153</td>\n",
       "      <td>0.069484</td>\n",
       "      <td>0.316681</td>\n",
       "      <td>0.232506</td>\n",
       "      <td>0.204064</td>\n",
       "      <td>0.219650</td>\n",
       "    </tr>\n",
       "    <tr>\n",
       "      <td>1</td>\n",
       "      <td>0.388096</td>\n",
       "      <td>0.036237</td>\n",
       "      <td>0.079688</td>\n",
       "      <td>0.206333</td>\n",
       "      <td>-0.190544</td>\n",
       "      <td>0.056684</td>\n",
       "      <td>0.057118</td>\n",
       "      <td>0.315022</td>\n",
       "      <td>0.228155</td>\n",
       "      <td>0.211707</td>\n",
       "      <td>0.217898</td>\n",
       "    </tr>\n",
       "    <tr>\n",
       "      <td>2</td>\n",
       "      <td>0.368322</td>\n",
       "      <td>0.006549</td>\n",
       "      <td>0.079142</td>\n",
       "      <td>0.209285</td>\n",
       "      <td>-0.214843</td>\n",
       "      <td>0.042336</td>\n",
       "      <td>0.064119</td>\n",
       "      <td>0.292134</td>\n",
       "      <td>0.177781</td>\n",
       "      <td>0.211490</td>\n",
       "      <td>0.191053</td>\n",
       "    </tr>\n",
       "    <tr>\n",
       "      <td>3</td>\n",
       "      <td>0.349678</td>\n",
       "      <td>-0.009912</td>\n",
       "      <td>0.076323</td>\n",
       "      <td>0.208049</td>\n",
       "      <td>-0.224756</td>\n",
       "      <td>0.034939</td>\n",
       "      <td>0.064786</td>\n",
       "      <td>0.275306</td>\n",
       "      <td>0.146291</td>\n",
       "      <td>0.214622</td>\n",
       "      <td>0.170635</td>\n",
       "    </tr>\n",
       "    <tr>\n",
       "      <td>4</td>\n",
       "      <td>0.271740</td>\n",
       "      <td>-0.031868</td>\n",
       "      <td>0.046996</td>\n",
       "      <td>0.179195</td>\n",
       "      <td>-0.219620</td>\n",
       "      <td>0.028942</td>\n",
       "      <td>0.079269</td>\n",
       "      <td>0.202763</td>\n",
       "      <td>0.083909</td>\n",
       "      <td>0.216616</td>\n",
       "      <td>0.100834</td>\n",
       "    </tr>\n",
       "  </tbody>\n",
       "</table>\n",
       "</div>"
      ],
      "text/plain": [
       "        RWR       SPY       XLY       XLP       XLE       XLF       XLV  \\\n",
       "0  0.392952  0.038189  0.080140  0.209323 -0.199084  0.060153  0.069484   \n",
       "1  0.388096  0.036237  0.079688  0.206333 -0.190544  0.056684  0.057118   \n",
       "2  0.368322  0.006549  0.079142  0.209285 -0.214843  0.042336  0.064119   \n",
       "3  0.349678 -0.009912  0.076323  0.208049 -0.224756  0.034939  0.064786   \n",
       "4  0.271740 -0.031868  0.046996  0.179195 -0.219620  0.028942  0.079269   \n",
       "\n",
       "        XLB       XLI       XLU       XLK  \n",
       "0  0.316681  0.232506  0.204064  0.219650  \n",
       "1  0.315022  0.228155  0.211707  0.217898  \n",
       "2  0.292134  0.177781  0.211490  0.191053  \n",
       "3  0.275306  0.146291  0.214622  0.170635  \n",
       "4  0.202763  0.083909  0.216616  0.100834  "
      ]
     },
     "execution_count": 112,
     "metadata": {},
     "output_type": "execute_result"
    }
   ],
   "source": [
    "df_weights.head()"
   ]
  },
  {
   "cell_type": "code",
   "execution_count": 92,
   "metadata": {},
   "outputs": [
    {
     "data": {
      "text/html": [
       "<div>\n",
       "<style scoped>\n",
       "    .dataframe tbody tr th:only-of-type {\n",
       "        vertical-align: middle;\n",
       "    }\n",
       "\n",
       "    .dataframe tbody tr th {\n",
       "        vertical-align: top;\n",
       "    }\n",
       "\n",
       "    .dataframe thead th {\n",
       "        text-align: right;\n",
       "    }\n",
       "</style>\n",
       "<table border=\"1\" class=\"dataframe\">\n",
       "  <thead>\n",
       "    <tr style=\"text-align: right;\">\n",
       "      <th></th>\n",
       "      <th>RWR</th>\n",
       "      <th>SPY</th>\n",
       "      <th>XLY</th>\n",
       "      <th>XLP</th>\n",
       "      <th>XLE</th>\n",
       "      <th>XLF</th>\n",
       "      <th>XLV</th>\n",
       "      <th>XLB</th>\n",
       "      <th>XLI</th>\n",
       "      <th>XLU</th>\n",
       "      <th>XLK</th>\n",
       "    </tr>\n",
       "  </thead>\n",
       "  <tbody>\n",
       "    <tr>\n",
       "      <td>0</td>\n",
       "      <td>0.241957</td>\n",
       "      <td>0.023514</td>\n",
       "      <td>0.049345</td>\n",
       "      <td>0.128889</td>\n",
       "      <td>-0.122584</td>\n",
       "      <td>0.037039</td>\n",
       "      <td>0.042784</td>\n",
       "      <td>0.194994</td>\n",
       "      <td>0.143164</td>\n",
       "      <td>0.125650</td>\n",
       "      <td>0.135248</td>\n",
       "    </tr>\n",
       "    <tr>\n",
       "      <td>1</td>\n",
       "      <td>0.241594</td>\n",
       "      <td>0.022558</td>\n",
       "      <td>0.049607</td>\n",
       "      <td>0.128445</td>\n",
       "      <td>-0.118616</td>\n",
       "      <td>0.035286</td>\n",
       "      <td>0.035557</td>\n",
       "      <td>0.196105</td>\n",
       "      <td>0.142029</td>\n",
       "      <td>0.131790</td>\n",
       "      <td>0.135644</td>\n",
       "    </tr>\n",
       "    <tr>\n",
       "      <td>2</td>\n",
       "      <td>0.258042</td>\n",
       "      <td>0.004588</td>\n",
       "      <td>0.055446</td>\n",
       "      <td>0.146623</td>\n",
       "      <td>-0.150516</td>\n",
       "      <td>0.029660</td>\n",
       "      <td>0.044921</td>\n",
       "      <td>0.204666</td>\n",
       "      <td>0.124552</td>\n",
       "      <td>0.148168</td>\n",
       "      <td>0.133850</td>\n",
       "    </tr>\n",
       "    <tr>\n",
       "      <td>3</td>\n",
       "      <td>0.267755</td>\n",
       "      <td>-0.007590</td>\n",
       "      <td>0.058442</td>\n",
       "      <td>0.159307</td>\n",
       "      <td>-0.172100</td>\n",
       "      <td>0.026754</td>\n",
       "      <td>0.049608</td>\n",
       "      <td>0.210807</td>\n",
       "      <td>0.112018</td>\n",
       "      <td>0.164340</td>\n",
       "      <td>0.130658</td>\n",
       "    </tr>\n",
       "    <tr>\n",
       "      <td>4</td>\n",
       "      <td>0.283425</td>\n",
       "      <td>-0.033238</td>\n",
       "      <td>0.049017</td>\n",
       "      <td>0.186900</td>\n",
       "      <td>-0.229064</td>\n",
       "      <td>0.030186</td>\n",
       "      <td>0.082677</td>\n",
       "      <td>0.211481</td>\n",
       "      <td>0.087517</td>\n",
       "      <td>0.225930</td>\n",
       "      <td>0.105169</td>\n",
       "    </tr>\n",
       "    <tr>\n",
       "      <td>...</td>\n",
       "      <td>...</td>\n",
       "      <td>...</td>\n",
       "      <td>...</td>\n",
       "      <td>...</td>\n",
       "      <td>...</td>\n",
       "      <td>...</td>\n",
       "      <td>...</td>\n",
       "      <td>...</td>\n",
       "      <td>...</td>\n",
       "      <td>...</td>\n",
       "      <td>...</td>\n",
       "    </tr>\n",
       "    <tr>\n",
       "      <td>3333</td>\n",
       "      <td>0.304853</td>\n",
       "      <td>-0.093539</td>\n",
       "      <td>-0.028162</td>\n",
       "      <td>0.189956</td>\n",
       "      <td>-0.297956</td>\n",
       "      <td>0.067613</td>\n",
       "      <td>0.254667</td>\n",
       "      <td>0.173598</td>\n",
       "      <td>0.008649</td>\n",
       "      <td>0.353979</td>\n",
       "      <td>0.066342</td>\n",
       "    </tr>\n",
       "    <tr>\n",
       "      <td>3334</td>\n",
       "      <td>0.301139</td>\n",
       "      <td>-0.075563</td>\n",
       "      <td>-0.021485</td>\n",
       "      <td>0.175283</td>\n",
       "      <td>-0.260424</td>\n",
       "      <td>0.062602</td>\n",
       "      <td>0.218574</td>\n",
       "      <td>0.167146</td>\n",
       "      <td>0.011376</td>\n",
       "      <td>0.326454</td>\n",
       "      <td>0.094897</td>\n",
       "    </tr>\n",
       "    <tr>\n",
       "      <td>3335</td>\n",
       "      <td>0.293480</td>\n",
       "      <td>-0.061572</td>\n",
       "      <td>-0.026189</td>\n",
       "      <td>0.165424</td>\n",
       "      <td>-0.237225</td>\n",
       "      <td>0.063504</td>\n",
       "      <td>0.202168</td>\n",
       "      <td>0.155094</td>\n",
       "      <td>0.015268</td>\n",
       "      <td>0.324140</td>\n",
       "      <td>0.105908</td>\n",
       "    </tr>\n",
       "    <tr>\n",
       "      <td>3336</td>\n",
       "      <td>0.275798</td>\n",
       "      <td>-0.034266</td>\n",
       "      <td>-0.021297</td>\n",
       "      <td>0.148336</td>\n",
       "      <td>-0.195839</td>\n",
       "      <td>0.062536</td>\n",
       "      <td>0.165414</td>\n",
       "      <td>0.149602</td>\n",
       "      <td>0.042015</td>\n",
       "      <td>0.290818</td>\n",
       "      <td>0.116883</td>\n",
       "    </tr>\n",
       "    <tr>\n",
       "      <td>3337</td>\n",
       "      <td>0.253991</td>\n",
       "      <td>-0.008503</td>\n",
       "      <td>-0.026252</td>\n",
       "      <td>0.132499</td>\n",
       "      <td>-0.162823</td>\n",
       "      <td>0.066968</td>\n",
       "      <td>0.144590</td>\n",
       "      <td>0.138148</td>\n",
       "      <td>0.070534</td>\n",
       "      <td>0.276934</td>\n",
       "      <td>0.113915</td>\n",
       "    </tr>\n",
       "  </tbody>\n",
       "</table>\n",
       "<p>3338 rows × 11 columns</p>\n",
       "</div>"
      ],
      "text/plain": [
       "           RWR       SPY       XLY       XLP       XLE       XLF       XLV  \\\n",
       "0     0.241957  0.023514  0.049345  0.128889 -0.122584  0.037039  0.042784   \n",
       "1     0.241594  0.022558  0.049607  0.128445 -0.118616  0.035286  0.035557   \n",
       "2     0.258042  0.004588  0.055446  0.146623 -0.150516  0.029660  0.044921   \n",
       "3     0.267755 -0.007590  0.058442  0.159307 -0.172100  0.026754  0.049608   \n",
       "4     0.283425 -0.033238  0.049017  0.186900 -0.229064  0.030186  0.082677   \n",
       "...        ...       ...       ...       ...       ...       ...       ...   \n",
       "3333  0.304853 -0.093539 -0.028162  0.189956 -0.297956  0.067613  0.254667   \n",
       "3334  0.301139 -0.075563 -0.021485  0.175283 -0.260424  0.062602  0.218574   \n",
       "3335  0.293480 -0.061572 -0.026189  0.165424 -0.237225  0.063504  0.202168   \n",
       "3336  0.275798 -0.034266 -0.021297  0.148336 -0.195839  0.062536  0.165414   \n",
       "3337  0.253991 -0.008503 -0.026252  0.132499 -0.162823  0.066968  0.144590   \n",
       "\n",
       "           XLB       XLI       XLU       XLK  \n",
       "0     0.194994  0.143164  0.125650  0.135248  \n",
       "1     0.196105  0.142029  0.131790  0.135644  \n",
       "2     0.204666  0.124552  0.148168  0.133850  \n",
       "3     0.210807  0.112018  0.164340  0.130658  \n",
       "4     0.211481  0.087517  0.225930  0.105169  \n",
       "...        ...       ...       ...       ...  \n",
       "3333  0.173598  0.008649  0.353979  0.066342  \n",
       "3334  0.167146  0.011376  0.326454  0.094897  \n",
       "3335  0.155094  0.015268  0.324140  0.105908  \n",
       "3336  0.149602  0.042015  0.290818  0.116883  \n",
       "3337  0.138148  0.070534  0.276934  0.113915  \n",
       "\n",
       "[3338 rows x 11 columns]"
      ]
     },
     "execution_count": 92,
     "metadata": {},
     "output_type": "execute_result"
    }
   ],
   "source": [
    "#Normalizing the weights\n",
    "df_weights.div(df_weights.sum(axis=1), axis=0)"
   ]
  },
  {
   "cell_type": "code",
   "execution_count": 113,
   "metadata": {},
   "outputs": [
    {
     "data": {
      "text/plain": [
       "(3338, 11)"
      ]
     },
     "execution_count": 113,
     "metadata": {},
     "output_type": "execute_result"
    }
   ],
   "source": [
    "df_weights.shape"
   ]
  },
  {
   "cell_type": "code",
   "execution_count": 116,
   "metadata": {},
   "outputs": [],
   "source": [
    "#Z = pd.concat([df_portval,df_weights], axis=1, sort=True)\n",
    "#df_pnl = df_weights.mul(df_portval)\n",
    "df_pnl = z_dash.mul(df_weights.reindex(z_dash.index).values,axis=1)\n",
    "\n",
    "#cl.reindex(df.index).values,axis=1"
   ]
  },
  {
   "cell_type": "code",
   "execution_count": 122,
   "metadata": {},
   "outputs": [
    {
     "data": {
      "text/plain": [
       "0   -0.014415\n",
       "1   -0.023957\n",
       "2   -0.007168\n",
       "3    0.007660\n",
       "4   -0.016030\n",
       "dtype: float64"
      ]
     },
     "execution_count": 122,
     "metadata": {},
     "output_type": "execute_result"
    }
   ],
   "source": [
    "df_dailyret = df_pnl.sum(axis = 1, skipna = True)\n",
    "df_dailyret.head()\n",
    "#print(type(df_dailyret))"
   ]
  },
  {
   "cell_type": "code",
   "execution_count": 123,
   "metadata": {},
   "outputs": [
    {
     "data": {
      "text/plain": [
       "2.7740196440414824"
      ]
     },
     "execution_count": 123,
     "metadata": {},
     "output_type": "execute_result"
    }
   ],
   "source": [
    "df_dailyret.sum()"
   ]
  },
  {
   "cell_type": "code",
   "execution_count": 125,
   "metadata": {},
   "outputs": [
    {
     "name": "stdout",
     "output_type": "stream",
     "text": [
      "0   -0.014415\n",
      "1   -0.038372\n",
      "2   -0.045540\n",
      "3   -0.037880\n",
      "4   -0.053910\n",
      "dtype: float64\n"
     ]
    }
   ],
   "source": [
    "sr_cumlativepnl = df_dailyret.cumsum()\n",
    "print(sr_cumlativepnl.head())"
   ]
  },
  {
   "cell_type": "code",
   "execution_count": 54,
   "metadata": {},
   "outputs": [],
   "source": [
    "import matplotlib\n",
    "import matplotlib.pyplot as plt\n",
    "%matplotlib inline"
   ]
  },
  {
   "cell_type": "code",
   "execution_count": 129,
   "metadata": {},
   "outputs": [
    {
     "data": {
      "text/plain": [
       "<matplotlib.axes._subplots.AxesSubplot at 0x63f908a10>"
      ]
     },
     "execution_count": 129,
     "metadata": {},
     "output_type": "execute_result"
    },
    {
     "data": {
      "image/png": "[encoded data removed]",
      "text/plain": [
       "<Figure size 432x288 with 1 Axes>"
      ]
     },
     "metadata": {
      "needs_background": "light"
     },
     "output_type": "display_data"
    }
   ],
   "source": [
    "sr_cumlativepnl.plot()"
   ]
  },
  {
   "cell_type": "markdown",
   "metadata": {},
   "source": [
    "# Hyper parameter optimization"
   ]
  },
  {
   "cell_type": "code",
   "execution_count": 20,
   "metadata": {},
   "outputs": [],
   "source": [
    "from keras.wrappers.scikit_learn import KerasRegressor\n",
    "from sklearn.model_selection import GridSearchCV\n",
    "\n",
    "def create_model(layer1=50): \n",
    "    lstm_model = Sequential()\n",
    "    lstm_model.add(LSTM(layer1, input_shape=(10,11), return_sequences=True))\n",
    "    lstm_model.add(Dropout(0.5))\n",
    "    lstm_model.add(LSTM(50))\n",
    "    lstm_model.add(Dropout(0.5))\n",
    "    lstm_model.add(Dense(25, activation='tanh'))\n",
    "    lstm_model.add(Dropout(0.5))\n",
    "    lstm_model.add(Dense(11, activation='tanh'))\n",
    "    lstm_model.compile(loss=sharpe_ratio_loss2, optimizer='rmsprop')\n",
    "    return lstm_model\n",
    "\n",
    "model = KerasRegressor(build_fn=create_model, epochs=5, batch_size=10, verbose=0)\n",
    "\n",
    "layer1 = [40,50]\n",
    "param_grid = dict(layer1=layer1)"
   ]
  },
  {
   "cell_type": "code",
   "execution_count": 22,
   "metadata": {},
   "outputs": [],
   "source": [
    "from keras.wrappers.scikit_learn import KerasRegressor\n",
    "\n",
    "class KerasRegressorGenerator(KerasRegressor):\n",
    "    def fit(self,X,y,**kwargs):\n",
    "        self.model = self.build_fn(**self.filter_sk_params(self.build_fn))\n",
    "        self.trained_model = self.model.fit_generator(X)\n",
    "        return self\n",
    "    \n",
    "    def predict(X):\n",
    "        return self.trained_model.fit_generator(X)\n",
    "    "
   ]
  },
  {
   "cell_type": "code",
   "execution_count": 25,
   "metadata": {},
   "outputs": [
    {
     "name": "stdout",
     "output_type": "stream",
     "text": [
      "Epoch 1/1\n",
      "152/152 [==============================] - 4s 26ms/step - loss: -0.8036\n"
     ]
    },
    {
     "data": {
      "text/plain": [
       "<__main__.KerasRegressorGenerator at 0x2e6a03e5948>"
      ]
     },
     "execution_count": 25,
     "metadata": {},
     "output_type": "execute_result"
    }
   ],
   "source": [
    "def create_model(layer1=50): \n",
    "    lstm_model = Sequential()\n",
    "    lstm_model.add(LSTM(layer1, input_shape=(10,33), return_sequences=True))\n",
    "    lstm_model.add(Dropout(0.5))\n",
    "    lstm_model.add(LSTM(50))\n",
    "    lstm_model.add(Dropout(0.5))\n",
    "    lstm_model.add(Dense(25, activation='tanh'))\n",
    "    lstm_model.add(Dropout(0.5))\n",
    "    lstm_model.add(Dense(11, activation='tanh'))\n",
    "    lstm_model.compile(loss=sharpe_ratio_loss2, optimizer='rmsprop')\n",
    "    return lstm_model\n",
    "\n",
    "model = KerasRegressorGenerator(build_fn=create_model, epochs=3, batch_size=10, verbose=0)\n",
    "model.fit(train_data_gen,test_data_gen)"
   ]
  },
  {
   "cell_type": "code",
   "execution_count": 1,
   "metadata": {},
   "outputs": [
    {
     "name": "stderr",
     "output_type": "stream",
     "text": [
      "C:\\Users\\vinay\\AppData\\Local\\Continuum\\anaconda3\\envs\\ml_gpu\\lib\\site-packages\\sklearn\\externals\\joblib\\__init__.py:15: DeprecationWarning: sklearn.externals.joblib is deprecated in 0.21 and will be removed in 0.23. Please import this functionality directly from joblib, which can be installed with: pip install joblib. If this warning is raised when loading pickled models, you may need to re-serialize those models with scikit-learn 0.21+.\n",
      "  warnings.warn(msg, category=DeprecationWarning)\n"
     ]
    }
   ],
   "source": [
    "from skopt import BayesSearchCV"
   ]
  },
  {
   "cell_type": "code",
   "execution_count": 2,
   "metadata": {},
   "outputs": [],
   "source": [
    "BayesSearchCV?"
   ]
  },
  {
   "cell_type": "code",
   "execution_count": 5,
   "metadata": {},
   "outputs": [],
   "source": [
    "optimizer = ['SGD', 'RMSprop', 'Adagrad', 'Adadelta', 'Adam', 'Adamax', 'Nadam']\n",
    "param_grid = dict(optimizer=optimizer)"
   ]
  },
  {
   "cell_type": "markdown",
   "metadata": {},
   "source": [
    "# Dump to run model.fit instead of generator first"
   ]
  },
  {
   "cell_type": "code",
   "execution_count": 3,
   "metadata": {},
   "outputs": [],
   "source": [
    "TIME_STEPS = 10  #Look at past 10 time steps\n",
    "BATCH_SIZE = 22 #Optimize for monthly sharpe ratio\n",
    "\n",
    "#https://towardsdatascience.com/predicting-stock-price-with-lstm-13af86a74944\n",
    "def build_timeseries(df_prices, mom_window=10, forward_return=1):\n",
    "    X_temp = df_prices/df_prices.shift(mom_window) - 1 \n",
    "    y_temp = df_prices.shift(-1*forward_return)/df_prices - 1    #Might have to take an extra day lag to make it tradable\n",
    "    \n",
    "    index_slice = X_temp.notnull().any(axis=1) & y_temp.notnull().any(axis=1)   #Remove Nan \n",
    "    X_temp = X_temp[index_slice]\n",
    "    y_temp = y_temp[index_slice]\n",
    "    \n",
    "    dim_0 = X_temp.shape[0] - TIME_STEPS\n",
    "    dim_1 = X_temp.shape[1]\n",
    "    \n",
    "    X = np.zeros((dim_0, TIME_STEPS, dim_1))\n",
    "    #y = np.zeros(dim_0, df_prices.shape[1])  #Predict as many as number of stocks\n",
    "    for i in range(dim_0):\n",
    "        X[i] = X_temp[i:i+TIME_STEPS]\n",
    "        \n",
    "    y = y_temp[TIME_STEPS:]\n",
    "    \n",
    "    return X, y"
   ]
  },
  {
   "cell_type": "code",
   "execution_count": 4,
   "metadata": {},
   "outputs": [
    {
     "name": "stdout",
     "output_type": "stream",
     "text": [
      "(4227, 10, 11)\n",
      "(4227, 11)\n"
     ]
    }
   ],
   "source": [
    "X,y = build_timeseries(df_prices)\n",
    "print(X.shape)\n",
    "print(y.shape)"
   ]
  },
  {
   "cell_type": "code",
   "execution_count": 44,
   "metadata": {},
   "outputs": [],
   "source": [
    "a=lstm_model.predict_generator(test_data_gen)"
   ]
  },
  {
   "cell_type": "code",
   "execution_count": 37,
   "metadata": {},
   "outputs": [
    {
     "data": {
      "text/plain": [
       "(828, 11)"
      ]
     },
     "execution_count": 37,
     "metadata": {},
     "output_type": "execute_result"
    }
   ],
   "source": [
    "a.shape"
   ]
  },
  {
   "cell_type": "code",
   "execution_count": 27,
   "metadata": {},
   "outputs": [
    {
     "data": {
      "text/plain": [
       "(838, 11)"
      ]
     },
     "execution_count": 27,
     "metadata": {},
     "output_type": "execute_result"
    }
   ],
   "source": [
    "y_test.shape"
   ]
  },
  {
   "cell_type": "code",
   "execution_count": 15,
   "metadata": {},
   "outputs": [
    {
     "data": {
      "text/plain": [
       "array([[ 9.81375744e-05,  4.16300960e-03,  4.09668784e-04, ...,\n",
       "        -5.76258148e-03,  9.06023455e-03,  4.19046697e-03],\n",
       "       [ 2.35330335e-03, -3.77713150e-03, -6.14368227e-03, ...,\n",
       "         5.98896178e-03,  2.94819221e-03, -2.69995045e-03],\n",
       "       [ 9.19615775e-03,  4.48520582e-03,  2.67858813e-03, ...,\n",
       "         1.32515581e-02,  2.00428562e-03,  4.18388462e-03],\n",
       "       ...,\n",
       "       [-9.07140398e-03,  2.10797433e-03,  5.15974616e-03, ...,\n",
       "         2.44421588e-03,  6.01646303e-03, -6.60617756e-04],\n",
       "       [ 8.46540645e-03,  3.23644348e-04, -5.79563632e-03, ...,\n",
       "         1.47919350e-02,  1.15413507e-03, -3.14027664e-03],\n",
       "       [ 8.78478822e-03,  1.45578027e-03,  6.16254041e-03, ...,\n",
       "         3.52396636e-03,  1.04822222e-04,  4.31073766e-03]])"
      ]
     },
     "execution_count": 15,
     "metadata": {},
     "output_type": "execute_result"
    }
   ],
   "source": [
    "y_test"
   ]
  },
  {
   "cell_type": "code",
   "execution_count": 45,
   "metadata": {},
   "outputs": [
    {
     "data": {
      "text/plain": [
       "0.9822406"
      ]
     },
     "execution_count": 45,
     "metadata": {},
     "output_type": "execute_result"
    }
   ],
   "source": [
    "max(map(max,a))"
   ]
  },
  {
   "cell_type": "code",
   "execution_count": null,
   "metadata": {},
   "outputs": [],
   "source": []
  }
 ],
 "metadata": {
  "kernelspec": {
   "display_name": "Python 3",
   "language": "python",
   "name": "python3"
  },
  "language_info": {
   "codemirror_mode": {
    "name": "ipython",
    "version": 3
   },
   "file_extension": ".py",
   "mimetype": "text/x-python",
   "name": "python",
   "nbconvert_exporter": "python",
   "pygments_lexer": "ipython3",
   "version": "3.7.4"
  }
 },
 "nbformat": 4,
 "nbformat_minor": 2
}
